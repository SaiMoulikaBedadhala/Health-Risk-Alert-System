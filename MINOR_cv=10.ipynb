{
  "cells": [
    {
      "cell_type": "markdown",
      "metadata": {
        "id": "view-in-github",
        "colab_type": "text"
      },
      "source": [
        "<a href=\"https://colab.research.google.com/github/SaiMoulikaBedadhala/Health-Risk-Alert-System/blob/main/MINOR_cv%3D10.ipynb\" target=\"_parent\"><img src=\"https://colab.research.google.com/assets/colab-badge.svg\" alt=\"Open In Colab\"/></a>"
      ]
    },
    {
      "cell_type": "code",
      "source": [
        "from google.colab import drive\n",
        "drive.mount('/content/drive')"
      ],
      "metadata": {
        "id": "1pXugfQaU_kQ",
        "colab": {
          "base_uri": "https://localhost:8080/"
        },
        "outputId": "b5509a77-f5a9-4795-9a16-6629369a8581"
      },
      "execution_count": null,
      "outputs": [
        {
          "output_type": "stream",
          "name": "stdout",
          "text": [
            "Mounted at /content/drive\n"
          ]
        }
      ]
    },
    {
      "cell_type": "markdown",
      "metadata": {
        "id": "uZtYxpsirpUG"
      },
      "source": [
        "### **Data Exploration**"
      ]
    },
    {
      "cell_type": "code",
      "execution_count": null,
      "metadata": {
        "id": "1C-3pkGzmwgG"
      },
      "outputs": [],
      "source": [
        "import pandas as pd\n",
        "data=pd.read_csv('/content/drive/MyDrive/data.csv',encoding='utf-8-sig')"
      ]
    },
    {
      "cell_type": "code",
      "execution_count": null,
      "metadata": {
        "colab": {
          "base_uri": "https://localhost:8080/"
        },
        "id": "O0-uZxJQNKrN",
        "outputId": "2243a8f0-f4b8-417d-e24f-4704eacefbb4"
      },
      "outputs": [
        {
          "output_type": "stream",
          "name": "stdout",
          "text": [
            "<class 'pandas.core.frame.DataFrame'>\n",
            "RangeIndex: 22269 entries, 0 to 22268\n",
            "Data columns (total 6 columns):\n",
            " #   Column     Non-Null Count  Dtype\n",
            "---  ------     --------------  -----\n",
            " 0   Age        22269 non-null  int64\n",
            " 1   HeartBeat  22269 non-null  int64\n",
            " 2   Systolic   22269 non-null  int64\n",
            " 3   Diastolic  22269 non-null  int64\n",
            " 4   Sugar      22269 non-null  int64\n",
            " 5   Alert      22269 non-null  int64\n",
            "dtypes: int64(6)\n",
            "memory usage: 1.0 MB\n"
          ]
        }
      ],
      "source": [
        "data.info()"
      ]
    },
    {
      "cell_type": "code",
      "execution_count": null,
      "metadata": {
        "colab": {
          "base_uri": "https://localhost:8080/"
        },
        "id": "1u_RZcQjNAM7",
        "outputId": "d0e0e4e0-82a6-4f1e-b6d3-db2203cf0592"
      },
      "outputs": [
        {
          "output_type": "execute_result",
          "data": {
            "text/plain": [
              "Age          0\n",
              "HeartBeat    0\n",
              "Systolic     0\n",
              "Diastolic    0\n",
              "Sugar        0\n",
              "Alert        0\n",
              "dtype: int64"
            ]
          },
          "metadata": {},
          "execution_count": 6
        }
      ],
      "source": [
        "#To check if any null values r presnt\n",
        "data.isnull().sum()"
      ]
    },
    {
      "cell_type": "code",
      "execution_count": null,
      "metadata": {
        "colab": {
          "base_uri": "https://localhost:8080/",
          "height": 238
        },
        "id": "D97lvIqWNhcx",
        "outputId": "75e6c7eb-9e01-406c-d2ce-a33d719c5459"
      },
      "outputs": [
        {
          "output_type": "execute_result",
          "data": {
            "text/plain": [
              "                Age  HeartBeat  Systolic  Diastolic     Sugar     Alert\n",
              "Age        1.000000   0.026617  0.000228   0.000196  0.000264  0.000966\n",
              "HeartBeat  0.026617   1.000000  0.053563   0.025512  0.006078  0.109718\n",
              "Systolic   0.000228   0.053563  1.000000   0.918053  0.015303  0.302769\n",
              "Diastolic  0.000196   0.025512  0.918053   1.000000  0.012300  0.291115\n",
              "Sugar      0.000264   0.006078  0.015303   0.012300  1.000000  0.302975\n",
              "Alert      0.000966   0.109718  0.302769   0.291115  0.302975  1.000000"
            ],
            "text/html": [
              "\n",
              "\n",
              "  <div id=\"df-832d50f4-4192-4132-a31f-10ae5661e9c7\">\n",
              "    <div class=\"colab-df-container\">\n",
              "      <div>\n",
              "<style scoped>\n",
              "    .dataframe tbody tr th:only-of-type {\n",
              "        vertical-align: middle;\n",
              "    }\n",
              "\n",
              "    .dataframe tbody tr th {\n",
              "        vertical-align: top;\n",
              "    }\n",
              "\n",
              "    .dataframe thead th {\n",
              "        text-align: right;\n",
              "    }\n",
              "</style>\n",
              "<table border=\"1\" class=\"dataframe\">\n",
              "  <thead>\n",
              "    <tr style=\"text-align: right;\">\n",
              "      <th></th>\n",
              "      <th>Age</th>\n",
              "      <th>HeartBeat</th>\n",
              "      <th>Systolic</th>\n",
              "      <th>Diastolic</th>\n",
              "      <th>Sugar</th>\n",
              "      <th>Alert</th>\n",
              "    </tr>\n",
              "  </thead>\n",
              "  <tbody>\n",
              "    <tr>\n",
              "      <th>Age</th>\n",
              "      <td>1.000000</td>\n",
              "      <td>0.026617</td>\n",
              "      <td>0.000228</td>\n",
              "      <td>0.000196</td>\n",
              "      <td>0.000264</td>\n",
              "      <td>0.000966</td>\n",
              "    </tr>\n",
              "    <tr>\n",
              "      <th>HeartBeat</th>\n",
              "      <td>0.026617</td>\n",
              "      <td>1.000000</td>\n",
              "      <td>0.053563</td>\n",
              "      <td>0.025512</td>\n",
              "      <td>0.006078</td>\n",
              "      <td>0.109718</td>\n",
              "    </tr>\n",
              "    <tr>\n",
              "      <th>Systolic</th>\n",
              "      <td>0.000228</td>\n",
              "      <td>0.053563</td>\n",
              "      <td>1.000000</td>\n",
              "      <td>0.918053</td>\n",
              "      <td>0.015303</td>\n",
              "      <td>0.302769</td>\n",
              "    </tr>\n",
              "    <tr>\n",
              "      <th>Diastolic</th>\n",
              "      <td>0.000196</td>\n",
              "      <td>0.025512</td>\n",
              "      <td>0.918053</td>\n",
              "      <td>1.000000</td>\n",
              "      <td>0.012300</td>\n",
              "      <td>0.291115</td>\n",
              "    </tr>\n",
              "    <tr>\n",
              "      <th>Sugar</th>\n",
              "      <td>0.000264</td>\n",
              "      <td>0.006078</td>\n",
              "      <td>0.015303</td>\n",
              "      <td>0.012300</td>\n",
              "      <td>1.000000</td>\n",
              "      <td>0.302975</td>\n",
              "    </tr>\n",
              "    <tr>\n",
              "      <th>Alert</th>\n",
              "      <td>0.000966</td>\n",
              "      <td>0.109718</td>\n",
              "      <td>0.302769</td>\n",
              "      <td>0.291115</td>\n",
              "      <td>0.302975</td>\n",
              "      <td>1.000000</td>\n",
              "    </tr>\n",
              "  </tbody>\n",
              "</table>\n",
              "</div>\n",
              "      <button class=\"colab-df-convert\" onclick=\"convertToInteractive('df-832d50f4-4192-4132-a31f-10ae5661e9c7')\"\n",
              "              title=\"Convert this dataframe to an interactive table.\"\n",
              "              style=\"display:none;\">\n",
              "\n",
              "  <svg xmlns=\"http://www.w3.org/2000/svg\" height=\"24px\"viewBox=\"0 0 24 24\"\n",
              "       width=\"24px\">\n",
              "    <path d=\"M0 0h24v24H0V0z\" fill=\"none\"/>\n",
              "    <path d=\"M18.56 5.44l.94 2.06.94-2.06 2.06-.94-2.06-.94-.94-2.06-.94 2.06-2.06.94zm-11 1L8.5 8.5l.94-2.06 2.06-.94-2.06-.94L8.5 2.5l-.94 2.06-2.06.94zm10 10l.94 2.06.94-2.06 2.06-.94-2.06-.94-.94-2.06-.94 2.06-2.06.94z\"/><path d=\"M17.41 7.96l-1.37-1.37c-.4-.4-.92-.59-1.43-.59-.52 0-1.04.2-1.43.59L10.3 9.45l-7.72 7.72c-.78.78-.78 2.05 0 2.83L4 21.41c.39.39.9.59 1.41.59.51 0 1.02-.2 1.41-.59l7.78-7.78 2.81-2.81c.8-.78.8-2.07 0-2.86zM5.41 20L4 18.59l7.72-7.72 1.47 1.35L5.41 20z\"/>\n",
              "  </svg>\n",
              "      </button>\n",
              "\n",
              "\n",
              "\n",
              "    <div id=\"df-9a9c8689-e8bf-4e4a-ad2b-0c9de969ef09\">\n",
              "      <button class=\"colab-df-quickchart\" onclick=\"quickchart('df-9a9c8689-e8bf-4e4a-ad2b-0c9de969ef09')\"\n",
              "              title=\"Suggest charts.\"\n",
              "              style=\"display:none;\">\n",
              "\n",
              "<svg xmlns=\"http://www.w3.org/2000/svg\" height=\"24px\"viewBox=\"0 0 24 24\"\n",
              "     width=\"24px\">\n",
              "    <g>\n",
              "        <path d=\"M19 3H5c-1.1 0-2 .9-2 2v14c0 1.1.9 2 2 2h14c1.1 0 2-.9 2-2V5c0-1.1-.9-2-2-2zM9 17H7v-7h2v7zm4 0h-2V7h2v10zm4 0h-2v-4h2v4z\"/>\n",
              "    </g>\n",
              "</svg>\n",
              "      </button>\n",
              "    </div>\n",
              "\n",
              "<style>\n",
              "  .colab-df-quickchart {\n",
              "    background-color: #E8F0FE;\n",
              "    border: none;\n",
              "    border-radius: 50%;\n",
              "    cursor: pointer;\n",
              "    display: none;\n",
              "    fill: #1967D2;\n",
              "    height: 32px;\n",
              "    padding: 0 0 0 0;\n",
              "    width: 32px;\n",
              "  }\n",
              "\n",
              "  .colab-df-quickchart:hover {\n",
              "    background-color: #E2EBFA;\n",
              "    box-shadow: 0px 1px 2px rgba(60, 64, 67, 0.3), 0px 1px 3px 1px rgba(60, 64, 67, 0.15);\n",
              "    fill: #174EA6;\n",
              "  }\n",
              "\n",
              "  [theme=dark] .colab-df-quickchart {\n",
              "    background-color: #3B4455;\n",
              "    fill: #D2E3FC;\n",
              "  }\n",
              "\n",
              "  [theme=dark] .colab-df-quickchart:hover {\n",
              "    background-color: #434B5C;\n",
              "    box-shadow: 0px 1px 3px 1px rgba(0, 0, 0, 0.15);\n",
              "    filter: drop-shadow(0px 1px 2px rgba(0, 0, 0, 0.3));\n",
              "    fill: #FFFFFF;\n",
              "  }\n",
              "</style>\n",
              "\n",
              "    <script>\n",
              "      async function quickchart(key) {\n",
              "        const containerElement = document.querySelector('#' + key);\n",
              "        const charts = await google.colab.kernel.invokeFunction(\n",
              "            'suggestCharts', [key], {});\n",
              "      }\n",
              "    </script>\n",
              "\n",
              "      <script>\n",
              "\n",
              "function displayQuickchartButton(domScope) {\n",
              "  let quickchartButtonEl =\n",
              "    domScope.querySelector('#df-9a9c8689-e8bf-4e4a-ad2b-0c9de969ef09 button.colab-df-quickchart');\n",
              "  quickchartButtonEl.style.display =\n",
              "    google.colab.kernel.accessAllowed ? 'block' : 'none';\n",
              "}\n",
              "\n",
              "        displayQuickchartButton(document);\n",
              "      </script>\n",
              "      <style>\n",
              "    .colab-df-container {\n",
              "      display:flex;\n",
              "      flex-wrap:wrap;\n",
              "      gap: 12px;\n",
              "    }\n",
              "\n",
              "    .colab-df-convert {\n",
              "      background-color: #E8F0FE;\n",
              "      border: none;\n",
              "      border-radius: 50%;\n",
              "      cursor: pointer;\n",
              "      display: none;\n",
              "      fill: #1967D2;\n",
              "      height: 32px;\n",
              "      padding: 0 0 0 0;\n",
              "      width: 32px;\n",
              "    }\n",
              "\n",
              "    .colab-df-convert:hover {\n",
              "      background-color: #E2EBFA;\n",
              "      box-shadow: 0px 1px 2px rgba(60, 64, 67, 0.3), 0px 1px 3px 1px rgba(60, 64, 67, 0.15);\n",
              "      fill: #174EA6;\n",
              "    }\n",
              "\n",
              "    [theme=dark] .colab-df-convert {\n",
              "      background-color: #3B4455;\n",
              "      fill: #D2E3FC;\n",
              "    }\n",
              "\n",
              "    [theme=dark] .colab-df-convert:hover {\n",
              "      background-color: #434B5C;\n",
              "      box-shadow: 0px 1px 3px 1px rgba(0, 0, 0, 0.15);\n",
              "      filter: drop-shadow(0px 1px 2px rgba(0, 0, 0, 0.3));\n",
              "      fill: #FFFFFF;\n",
              "    }\n",
              "  </style>\n",
              "\n",
              "      <script>\n",
              "        const buttonEl =\n",
              "          document.querySelector('#df-832d50f4-4192-4132-a31f-10ae5661e9c7 button.colab-df-convert');\n",
              "        buttonEl.style.display =\n",
              "          google.colab.kernel.accessAllowed ? 'block' : 'none';\n",
              "\n",
              "        async function convertToInteractive(key) {\n",
              "          const element = document.querySelector('#df-832d50f4-4192-4132-a31f-10ae5661e9c7');\n",
              "          const dataTable =\n",
              "            await google.colab.kernel.invokeFunction('convertToInteractive',\n",
              "                                                     [key], {});\n",
              "          if (!dataTable) return;\n",
              "\n",
              "          const docLinkHtml = 'Like what you see? Visit the ' +\n",
              "            '<a target=\"_blank\" href=https://colab.research.google.com/notebooks/data_table.ipynb>data table notebook</a>'\n",
              "            + ' to learn more about interactive tables.';\n",
              "          element.innerHTML = '';\n",
              "          dataTable['output_type'] = 'display_data';\n",
              "          await google.colab.output.renderOutput(dataTable, element);\n",
              "          const docLink = document.createElement('div');\n",
              "          docLink.innerHTML = docLinkHtml;\n",
              "          element.appendChild(docLink);\n",
              "        }\n",
              "      </script>\n",
              "    </div>\n",
              "  </div>\n"
            ]
          },
          "metadata": {},
          "execution_count": 7
        }
      ],
      "source": [
        "#Correlation Matrixx\n",
        "data.corr()"
      ]
    },
    {
      "cell_type": "code",
      "execution_count": null,
      "metadata": {
        "colab": {
          "base_uri": "https://localhost:8080/"
        },
        "id": "OcO95EOCnw42",
        "outputId": "d511d4d3-7407-4b62-d2d2-a92325d60fe6"
      },
      "outputs": [
        {
          "output_type": "execute_result",
          "data": {
            "text/plain": [
              "['Age', 'HeartBeat', 'Systolic', 'Diastolic', 'Sugar', 'Alert']"
            ]
          },
          "metadata": {},
          "execution_count": 8
        }
      ],
      "source": [
        "data.columns.values.tolist()"
      ]
    },
    {
      "cell_type": "code",
      "execution_count": null,
      "metadata": {
        "colab": {
          "base_uri": "https://localhost:8080/",
          "height": 206
        },
        "id": "KHAm8-dP68Bv",
        "outputId": "ad675d8a-b046-4e7d-fb44-f3698d13651a"
      },
      "outputs": [
        {
          "output_type": "execute_result",
          "data": {
            "text/plain": [
              "   Age  HeartBeat  Systolic  Diastolic  Sugar  Alert\n",
              "0   18         49        90         60     80      0\n",
              "1   18         49        90         60    100      0\n",
              "2   18         49        90         60    120      0\n",
              "3   18         49        90         60    140      0\n",
              "4   18         49        90         60    160      0"
            ],
            "text/html": [
              "\n",
              "\n",
              "  <div id=\"df-5ae08858-279b-42c3-b545-ad5e42624515\">\n",
              "    <div class=\"colab-df-container\">\n",
              "      <div>\n",
              "<style scoped>\n",
              "    .dataframe tbody tr th:only-of-type {\n",
              "        vertical-align: middle;\n",
              "    }\n",
              "\n",
              "    .dataframe tbody tr th {\n",
              "        vertical-align: top;\n",
              "    }\n",
              "\n",
              "    .dataframe thead th {\n",
              "        text-align: right;\n",
              "    }\n",
              "</style>\n",
              "<table border=\"1\" class=\"dataframe\">\n",
              "  <thead>\n",
              "    <tr style=\"text-align: right;\">\n",
              "      <th></th>\n",
              "      <th>Age</th>\n",
              "      <th>HeartBeat</th>\n",
              "      <th>Systolic</th>\n",
              "      <th>Diastolic</th>\n",
              "      <th>Sugar</th>\n",
              "      <th>Alert</th>\n",
              "    </tr>\n",
              "  </thead>\n",
              "  <tbody>\n",
              "    <tr>\n",
              "      <th>0</th>\n",
              "      <td>18</td>\n",
              "      <td>49</td>\n",
              "      <td>90</td>\n",
              "      <td>60</td>\n",
              "      <td>80</td>\n",
              "      <td>0</td>\n",
              "    </tr>\n",
              "    <tr>\n",
              "      <th>1</th>\n",
              "      <td>18</td>\n",
              "      <td>49</td>\n",
              "      <td>90</td>\n",
              "      <td>60</td>\n",
              "      <td>100</td>\n",
              "      <td>0</td>\n",
              "    </tr>\n",
              "    <tr>\n",
              "      <th>2</th>\n",
              "      <td>18</td>\n",
              "      <td>49</td>\n",
              "      <td>90</td>\n",
              "      <td>60</td>\n",
              "      <td>120</td>\n",
              "      <td>0</td>\n",
              "    </tr>\n",
              "    <tr>\n",
              "      <th>3</th>\n",
              "      <td>18</td>\n",
              "      <td>49</td>\n",
              "      <td>90</td>\n",
              "      <td>60</td>\n",
              "      <td>140</td>\n",
              "      <td>0</td>\n",
              "    </tr>\n",
              "    <tr>\n",
              "      <th>4</th>\n",
              "      <td>18</td>\n",
              "      <td>49</td>\n",
              "      <td>90</td>\n",
              "      <td>60</td>\n",
              "      <td>160</td>\n",
              "      <td>0</td>\n",
              "    </tr>\n",
              "  </tbody>\n",
              "</table>\n",
              "</div>\n",
              "      <button class=\"colab-df-convert\" onclick=\"convertToInteractive('df-5ae08858-279b-42c3-b545-ad5e42624515')\"\n",
              "              title=\"Convert this dataframe to an interactive table.\"\n",
              "              style=\"display:none;\">\n",
              "\n",
              "  <svg xmlns=\"http://www.w3.org/2000/svg\" height=\"24px\"viewBox=\"0 0 24 24\"\n",
              "       width=\"24px\">\n",
              "    <path d=\"M0 0h24v24H0V0z\" fill=\"none\"/>\n",
              "    <path d=\"M18.56 5.44l.94 2.06.94-2.06 2.06-.94-2.06-.94-.94-2.06-.94 2.06-2.06.94zm-11 1L8.5 8.5l.94-2.06 2.06-.94-2.06-.94L8.5 2.5l-.94 2.06-2.06.94zm10 10l.94 2.06.94-2.06 2.06-.94-2.06-.94-.94-2.06-.94 2.06-2.06.94z\"/><path d=\"M17.41 7.96l-1.37-1.37c-.4-.4-.92-.59-1.43-.59-.52 0-1.04.2-1.43.59L10.3 9.45l-7.72 7.72c-.78.78-.78 2.05 0 2.83L4 21.41c.39.39.9.59 1.41.59.51 0 1.02-.2 1.41-.59l7.78-7.78 2.81-2.81c.8-.78.8-2.07 0-2.86zM5.41 20L4 18.59l7.72-7.72 1.47 1.35L5.41 20z\"/>\n",
              "  </svg>\n",
              "      </button>\n",
              "\n",
              "\n",
              "\n",
              "    <div id=\"df-4872b207-b155-47b5-b587-be0a69c92b6d\">\n",
              "      <button class=\"colab-df-quickchart\" onclick=\"quickchart('df-4872b207-b155-47b5-b587-be0a69c92b6d')\"\n",
              "              title=\"Suggest charts.\"\n",
              "              style=\"display:none;\">\n",
              "\n",
              "<svg xmlns=\"http://www.w3.org/2000/svg\" height=\"24px\"viewBox=\"0 0 24 24\"\n",
              "     width=\"24px\">\n",
              "    <g>\n",
              "        <path d=\"M19 3H5c-1.1 0-2 .9-2 2v14c0 1.1.9 2 2 2h14c1.1 0 2-.9 2-2V5c0-1.1-.9-2-2-2zM9 17H7v-7h2v7zm4 0h-2V7h2v10zm4 0h-2v-4h2v4z\"/>\n",
              "    </g>\n",
              "</svg>\n",
              "      </button>\n",
              "    </div>\n",
              "\n",
              "<style>\n",
              "  .colab-df-quickchart {\n",
              "    background-color: #E8F0FE;\n",
              "    border: none;\n",
              "    border-radius: 50%;\n",
              "    cursor: pointer;\n",
              "    display: none;\n",
              "    fill: #1967D2;\n",
              "    height: 32px;\n",
              "    padding: 0 0 0 0;\n",
              "    width: 32px;\n",
              "  }\n",
              "\n",
              "  .colab-df-quickchart:hover {\n",
              "    background-color: #E2EBFA;\n",
              "    box-shadow: 0px 1px 2px rgba(60, 64, 67, 0.3), 0px 1px 3px 1px rgba(60, 64, 67, 0.15);\n",
              "    fill: #174EA6;\n",
              "  }\n",
              "\n",
              "  [theme=dark] .colab-df-quickchart {\n",
              "    background-color: #3B4455;\n",
              "    fill: #D2E3FC;\n",
              "  }\n",
              "\n",
              "  [theme=dark] .colab-df-quickchart:hover {\n",
              "    background-color: #434B5C;\n",
              "    box-shadow: 0px 1px 3px 1px rgba(0, 0, 0, 0.15);\n",
              "    filter: drop-shadow(0px 1px 2px rgba(0, 0, 0, 0.3));\n",
              "    fill: #FFFFFF;\n",
              "  }\n",
              "</style>\n",
              "\n",
              "    <script>\n",
              "      async function quickchart(key) {\n",
              "        const containerElement = document.querySelector('#' + key);\n",
              "        const charts = await google.colab.kernel.invokeFunction(\n",
              "            'suggestCharts', [key], {});\n",
              "      }\n",
              "    </script>\n",
              "\n",
              "      <script>\n",
              "\n",
              "function displayQuickchartButton(domScope) {\n",
              "  let quickchartButtonEl =\n",
              "    domScope.querySelector('#df-4872b207-b155-47b5-b587-be0a69c92b6d button.colab-df-quickchart');\n",
              "  quickchartButtonEl.style.display =\n",
              "    google.colab.kernel.accessAllowed ? 'block' : 'none';\n",
              "}\n",
              "\n",
              "        displayQuickchartButton(document);\n",
              "      </script>\n",
              "      <style>\n",
              "    .colab-df-container {\n",
              "      display:flex;\n",
              "      flex-wrap:wrap;\n",
              "      gap: 12px;\n",
              "    }\n",
              "\n",
              "    .colab-df-convert {\n",
              "      background-color: #E8F0FE;\n",
              "      border: none;\n",
              "      border-radius: 50%;\n",
              "      cursor: pointer;\n",
              "      display: none;\n",
              "      fill: #1967D2;\n",
              "      height: 32px;\n",
              "      padding: 0 0 0 0;\n",
              "      width: 32px;\n",
              "    }\n",
              "\n",
              "    .colab-df-convert:hover {\n",
              "      background-color: #E2EBFA;\n",
              "      box-shadow: 0px 1px 2px rgba(60, 64, 67, 0.3), 0px 1px 3px 1px rgba(60, 64, 67, 0.15);\n",
              "      fill: #174EA6;\n",
              "    }\n",
              "\n",
              "    [theme=dark] .colab-df-convert {\n",
              "      background-color: #3B4455;\n",
              "      fill: #D2E3FC;\n",
              "    }\n",
              "\n",
              "    [theme=dark] .colab-df-convert:hover {\n",
              "      background-color: #434B5C;\n",
              "      box-shadow: 0px 1px 3px 1px rgba(0, 0, 0, 0.15);\n",
              "      filter: drop-shadow(0px 1px 2px rgba(0, 0, 0, 0.3));\n",
              "      fill: #FFFFFF;\n",
              "    }\n",
              "  </style>\n",
              "\n",
              "      <script>\n",
              "        const buttonEl =\n",
              "          document.querySelector('#df-5ae08858-279b-42c3-b545-ad5e42624515 button.colab-df-convert');\n",
              "        buttonEl.style.display =\n",
              "          google.colab.kernel.accessAllowed ? 'block' : 'none';\n",
              "\n",
              "        async function convertToInteractive(key) {\n",
              "          const element = document.querySelector('#df-5ae08858-279b-42c3-b545-ad5e42624515');\n",
              "          const dataTable =\n",
              "            await google.colab.kernel.invokeFunction('convertToInteractive',\n",
              "                                                     [key], {});\n",
              "          if (!dataTable) return;\n",
              "\n",
              "          const docLinkHtml = 'Like what you see? Visit the ' +\n",
              "            '<a target=\"_blank\" href=https://colab.research.google.com/notebooks/data_table.ipynb>data table notebook</a>'\n",
              "            + ' to learn more about interactive tables.';\n",
              "          element.innerHTML = '';\n",
              "          dataTable['output_type'] = 'display_data';\n",
              "          await google.colab.output.renderOutput(dataTable, element);\n",
              "          const docLink = document.createElement('div');\n",
              "          docLink.innerHTML = docLinkHtml;\n",
              "          element.appendChild(docLink);\n",
              "        }\n",
              "      </script>\n",
              "    </div>\n",
              "  </div>\n"
            ]
          },
          "metadata": {},
          "execution_count": 9
        }
      ],
      "source": [
        "data.head()"
      ]
    },
    {
      "cell_type": "code",
      "execution_count": null,
      "metadata": {
        "id": "gBlVZp6Pn14r"
      },
      "outputs": [],
      "source": [
        "#Spliting into features and result\n",
        "X=data[[\"Age\",\"HeartBeat\",\"Systolic\",\"Diastolic\",\"Sugar\"]]\n",
        "y=data['Alert']"
      ]
    },
    {
      "cell_type": "code",
      "execution_count": null,
      "metadata": {
        "id": "73BE0Rhunj2f"
      },
      "outputs": [],
      "source": [
        "#Spliting the dataset into testing and training data set\n",
        "from sklearn.model_selection import train_test_split\n",
        "X_train,X_test,y_train,y_test = train_test_split(X,y,test_size = 0.2, random_state = 30)"
      ]
    },
    {
      "cell_type": "markdown",
      "metadata": {
        "id": "O_vzVixUsJqk"
      },
      "source": [
        "### **KNN**"
      ]
    },
    {
      "cell_type": "code",
      "execution_count": null,
      "metadata": {
        "id": "ZG5zXtN9kT8C"
      },
      "outputs": [],
      "source": [
        "from sklearn.model_selection import GridSearchCV\n",
        "from sklearn.neighbors import KNeighborsClassifier\n",
        "import numpy as np"
      ]
    },
    {
      "cell_type": "code",
      "execution_count": null,
      "metadata": {
        "id": "UjTLnE_f7aOC"
      },
      "outputs": [],
      "source": [
        "grid_params = { 'n_neighbors' : np.arange(1,100),\n",
        "               'weights' : ['uniform','distance'],\n",
        "               'metric' : ['minkowski','euclidean','manhattan']}\n",
        "#Grid Search will evaluate the model 99(1-100) x 2(weights) x 3 (metric) x 10(folds) = 5940 times with different hyperparameters.\n",
        "knn=KNeighborsClassifier()\n",
        "g_knn = GridSearchCV(knn, grid_params, verbose = 1, cv=10, n_jobs = -1)\n",
        "# fit the model on our train set\n",
        "g_knn_res = g_knn.fit(X_train, y_train)"
      ]
    },
    {
      "cell_type": "code",
      "execution_count": null,
      "metadata": {
        "colab": {
          "base_uri": "https://localhost:8080/"
        },
        "id": "cta-Efh38XVv",
        "outputId": "faa14971-f18a-4e15-bb85-8082eb090e6f"
      },
      "outputs": [
        {
          "output_type": "execute_result",
          "data": {
            "text/plain": [
              "0.9960706635889117"
            ]
          },
          "metadata": {},
          "execution_count": 11
        }
      ],
      "source": [
        "# find the best score\n",
        "g_knn_res.best_score_"
      ]
    },
    {
      "cell_type": "code",
      "execution_count": null,
      "metadata": {
        "colab": {
          "base_uri": "https://localhost:8080/"
        },
        "id": "5KrXAhhe8dgh",
        "outputId": "21fc6f93-686b-4200-b819-d6dd86e3230c"
      },
      "outputs": [
        {
          "output_type": "execute_result",
          "data": {
            "text/plain": [
              "{'metric': 'manhattan', 'n_neighbors': 5, 'weights': 'uniform'}"
            ]
          },
          "metadata": {},
          "execution_count": 12
        }
      ],
      "source": [
        "# get the hyperparameters with the best score\n",
        "g_knn_res.best_params_"
      ]
    },
    {
      "cell_type": "code",
      "execution_count": null,
      "metadata": {
        "colab": {
          "base_uri": "https://localhost:8080/"
        },
        "id": "59lL46rBoSxd",
        "outputId": "8647194a-dab1-484a-f7cb-5f241f630b5e"
      },
      "outputs": [
        {
          "output_type": "stream",
          "name": "stdout",
          "text": [
            "Accuracy: 0.9950606196677144\n",
            "Precision: 0.9968966340415374\n",
            "Recall: 0.9978494623655914\n",
            "F1 score: 0.9973728206352998\n"
          ]
        }
      ],
      "source": [
        "# After hyperparameter tuning and model training\n",
        "\n",
        "# Predict on the test data\n",
        "y_pred = g_knn_res.best_estimator_.predict(X_test)\n",
        "\n",
        "# Evaluate the model performance on the test data\n",
        "from sklearn.metrics import accuracy_score, precision_score, recall_score, f1_score\n",
        "\n",
        "accuracy = accuracy_score(y_test, y_pred)\n",
        "precision = precision_score(y_test, y_pred)\n",
        "recall = recall_score(y_test, y_pred)\n",
        "f1 = f1_score(y_test, y_pred)\n",
        "\n",
        "print(\"Accuracy:\", accuracy)\n",
        "print(\"Precision:\", precision)\n",
        "print(\"Recall:\", recall)\n",
        "print(\"F1 score:\", f1)"
      ]
    },
    {
      "cell_type": "code",
      "source": [
        "features = np.array([[25, 70, 120, 90, 100]])\n",
        "prediction = g_knn.predict(features)\n",
        "print(\"Prediction: {}\".format(prediction))\n",
        "if prediction==1:\n",
        "  print(\"ALERT\")\n",
        "else:\n",
        "  print(\"SAFE\")"
      ],
      "metadata": {
        "colab": {
          "base_uri": "https://localhost:8080/"
        },
        "id": "8tIi1JyaYR6p",
        "outputId": "9383f24d-bb10-497b-c3a9-a956e42bd60f"
      },
      "execution_count": null,
      "outputs": [
        {
          "output_type": "stream",
          "name": "stdout",
          "text": [
            "Prediction: [1]\n",
            "ALERT\n"
          ]
        },
        {
          "output_type": "stream",
          "name": "stderr",
          "text": [
            "/usr/local/lib/python3.10/dist-packages/sklearn/base.py:439: UserWarning: X does not have valid feature names, but KNeighborsClassifier was fitted with feature names\n",
            "  warnings.warn(\n"
          ]
        }
      ]
    },
    {
      "cell_type": "markdown",
      "metadata": {
        "id": "iPF5HPoOsShO"
      },
      "source": [
        "### **LOGISTIC REGRESSION**"
      ]
    },
    {
      "cell_type": "code",
      "execution_count": null,
      "metadata": {
        "colab": {
          "base_uri": "https://localhost:8080/"
        },
        "id": "lXAexQ_yN4z3",
        "outputId": "6b27edca-b3d1-43de-cd2c-2e2cc7718677"
      },
      "outputs": [
        {
          "output_type": "stream",
          "name": "stdout",
          "text": [
            "Fitting 10 folds for each of 14 candidates, totalling 140 fits\n"
          ]
        }
      ],
      "source": [
        "from sklearn.linear_model import LogisticRegression\n",
        "from sklearn.model_selection import GridSearchCV\n",
        "grid_params = { 'penalty' : ['l1'],\n",
        "                'solver': ['liblinear','saga'],\n",
        "               'C': [0.001, 0.01, 0.1, 1, 10, 100, 1000]}\n",
        "\n",
        "log=LogisticRegression()\n",
        "g_l1=GridSearchCV(log,grid_params,verbose=1,cv=10,n_jobs=-1)\n",
        "g_l1_res=g_l1.fit(X_train, y_train)\n"
      ]
    },
    {
      "cell_type": "code",
      "execution_count": null,
      "metadata": {
        "colab": {
          "base_uri": "https://localhost:8080/"
        },
        "id": "AvOpjL6YVcll",
        "outputId": "ca167751-f77a-4911-8d36-c334228583ae"
      },
      "outputs": [
        {
          "output_type": "execute_result",
          "data": {
            "text/plain": [
              "0.9628403001882321"
            ]
          },
          "metadata": {},
          "execution_count": 35
        }
      ],
      "source": [
        "g_l1_res.best_score_"
      ]
    },
    {
      "cell_type": "code",
      "execution_count": null,
      "metadata": {
        "colab": {
          "base_uri": "https://localhost:8080/"
        },
        "id": "4qbNIDxDViVx",
        "outputId": "36065e44-5a33-4521-f642-8d5d61af6427"
      },
      "outputs": [
        {
          "output_type": "execute_result",
          "data": {
            "text/plain": [
              "{'C': 10, 'penalty': 'l1', 'solver': 'liblinear'}"
            ]
          },
          "metadata": {},
          "execution_count": 36
        }
      ],
      "source": [
        "g_l1_res.best_params_"
      ]
    },
    {
      "cell_type": "code",
      "execution_count": null,
      "metadata": {
        "colab": {
          "base_uri": "https://localhost:8080/"
        },
        "id": "Fpdy60qsoifF",
        "outputId": "d3359322-474d-49a0-d09f-6cf266007db1"
      },
      "outputs": [
        {
          "output_type": "stream",
          "name": "stdout",
          "text": [
            "Accuracy: 0.958688819039066\n",
            "Precision: 0.9708166627441751\n",
            "Recall: 0.985663082437276\n",
            "F1 score: 0.9781835428029405\n"
          ]
        }
      ],
      "source": [
        "# After hyperparameter tuning and model training\n",
        "\n",
        "# Predict on the test data\n",
        "y_pred = g_l1_res.best_estimator_.predict(X_test)\n",
        "\n",
        "# Evaluate the model performance on the test data\n",
        "from sklearn.metrics import accuracy_score, precision_score, recall_score, f1_score\n",
        "\n",
        "accuracy = accuracy_score(y_test, y_pred)\n",
        "precision = precision_score(y_test, y_pred)\n",
        "recall = recall_score(y_test, y_pred)\n",
        "f1 = f1_score(y_test, y_pred)\n",
        "\n",
        "print(\"Accuracy:\", accuracy)\n",
        "print(\"Precision:\", precision)\n",
        "print(\"Recall:\", recall)\n",
        "print(\"F1 score:\", f1)"
      ]
    },
    {
      "cell_type": "code",
      "source": [
        "features = np.array([[25, 70, 120, 90, 100]])\n",
        "prediction = g_l1.predict(features)\n",
        "print(\"Prediction: {}\".format(prediction))\n",
        "if prediction==1:\n",
        "  print(\"ALERT\")\n",
        "else:\n",
        "  print(\"SAFE\")"
      ],
      "metadata": {
        "colab": {
          "base_uri": "https://localhost:8080/"
        },
        "id": "YVMCoUHUboNA",
        "outputId": "c81bf52c-9c20-4aba-e8f2-6583bd0127c6"
      },
      "execution_count": null,
      "outputs": [
        {
          "output_type": "stream",
          "name": "stdout",
          "text": [
            "Prediction: [1]\n",
            "ALERT\n"
          ]
        },
        {
          "output_type": "stream",
          "name": "stderr",
          "text": [
            "/usr/local/lib/python3.10/dist-packages/sklearn/base.py:439: UserWarning: X does not have valid feature names, but LogisticRegression was fitted with feature names\n",
            "  warnings.warn(\n"
          ]
        }
      ]
    },
    {
      "cell_type": "code",
      "execution_count": null,
      "metadata": {
        "colab": {
          "base_uri": "https://localhost:8080/"
        },
        "id": "j_wQplstW0pv",
        "outputId": "72e52ff9-ee8e-4c0c-d471-490015aa9385"
      },
      "outputs": [
        {
          "output_type": "stream",
          "name": "stdout",
          "text": [
            "Fitting 10 folds for each of 42 candidates, totalling 420 fits\n"
          ]
        }
      ],
      "source": [
        "from sklearn.linear_model import LogisticRegression\n",
        "grid_params = { 'penalty' : ['l2'],\n",
        "                'solver': ['liblinear','saga','lbfgs','newton-cg','newton-cholesky','sag'],\n",
        "               'C': [0.001, 0.01, 0.1, 1, 10, 100, 1000]}\n",
        "\n",
        "log=LogisticRegression()\n",
        "g_l2=GridSearchCV(log,grid_params,verbose=1,cv=10,n_jobs=-1)\n",
        "g_l2_res=g_l2.fit(X_train, y_train)\n"
      ]
    },
    {
      "cell_type": "code",
      "execution_count": null,
      "metadata": {
        "colab": {
          "base_uri": "https://localhost:8080/"
        },
        "id": "4rSFWk0vXPM2",
        "outputId": "345b3342-50b6-47b6-f2f1-ca3b2cff5c5a"
      },
      "outputs": [
        {
          "output_type": "execute_result",
          "data": {
            "text/plain": [
              "0.9628963854024682"
            ]
          },
          "metadata": {},
          "execution_count": 40
        }
      ],
      "source": [
        "g_l2_res.best_score_"
      ]
    },
    {
      "cell_type": "code",
      "execution_count": null,
      "metadata": {
        "colab": {
          "base_uri": "https://localhost:8080/"
        },
        "id": "H2YOVu3QXSfW",
        "outputId": "43f57da1-eba9-42f4-f7ec-5349796704ec"
      },
      "outputs": [
        {
          "output_type": "execute_result",
          "data": {
            "text/plain": [
              "{'C': 0.01, 'penalty': 'l2', 'solver': 'lbfgs'}"
            ]
          },
          "metadata": {},
          "execution_count": 41
        }
      ],
      "source": [
        "g_l2_res.best_params_"
      ]
    },
    {
      "cell_type": "code",
      "execution_count": null,
      "metadata": {
        "colab": {
          "base_uri": "https://localhost:8080/"
        },
        "id": "7g_L2kGppFlu",
        "outputId": "90edde50-53e3-4065-cacc-06773f6e84ae"
      },
      "outputs": [
        {
          "output_type": "stream",
          "name": "stdout",
          "text": [
            "Accuracy: 0.9591378536147284\n",
            "Precision: 0.9712738403578997\n",
            "Recall: 0.985663082437276\n",
            "F1 score: 0.9784155597722959\n"
          ]
        }
      ],
      "source": [
        "# After hyperparameter tuning and model training\n",
        "\n",
        "# Predict on the test data\n",
        "y_pred = g_l2_res.best_estimator_.predict(X_test)\n",
        "\n",
        "# Evaluate the model performance on the test data\n",
        "from sklearn.metrics import accuracy_score, precision_score, recall_score, f1_score\n",
        "\n",
        "accuracy = accuracy_score(y_test, y_pred)\n",
        "precision = precision_score(y_test, y_pred)\n",
        "recall = recall_score(y_test, y_pred)\n",
        "f1 = f1_score(y_test, y_pred)\n",
        "\n",
        "print(\"Accuracy:\", accuracy)\n",
        "print(\"Precision:\", precision)\n",
        "print(\"Recall:\", recall)\n",
        "print(\"F1 score:\", f1)"
      ]
    },
    {
      "cell_type": "code",
      "source": [
        "features = np.array([[25, 70, 120, 90, 100]])\n",
        "prediction = g_l2.predict(features)\n",
        "print(\"Prediction: {}\".format(prediction))\n",
        "if prediction==1:\n",
        "  print(\"ALERT\")\n",
        "else:\n",
        "  print(\"SAFE\")"
      ],
      "metadata": {
        "colab": {
          "base_uri": "https://localhost:8080/"
        },
        "id": "qfAk5BJMcHpI",
        "outputId": "b7ed44d1-3b4f-4ff4-8738-73542d6244fd"
      },
      "execution_count": null,
      "outputs": [
        {
          "output_type": "stream",
          "name": "stdout",
          "text": [
            "Prediction: [1]\n",
            "ALERT\n"
          ]
        },
        {
          "output_type": "stream",
          "name": "stderr",
          "text": [
            "/usr/local/lib/python3.10/dist-packages/sklearn/base.py:439: UserWarning: X does not have valid feature names, but LogisticRegression was fitted with feature names\n",
            "  warnings.warn(\n"
          ]
        }
      ]
    },
    {
      "cell_type": "code",
      "execution_count": null,
      "metadata": {
        "colab": {
          "base_uri": "https://localhost:8080/"
        },
        "id": "Ww3E8uTWXYJp",
        "outputId": "9bb7aaaf-d7b2-48e4-edb6-7f6ebc1288aa"
      },
      "outputs": [
        {
          "output_type": "stream",
          "name": "stdout",
          "text": [
            "Fitting 10 folds for each of 63 candidates, totalling 630 fits\n"
          ]
        },
        {
          "output_type": "stream",
          "name": "stderr",
          "text": [
            "/usr/local/lib/python3.10/dist-packages/sklearn/linear_model/_sag.py:350: ConvergenceWarning: The max_iter was reached which means the coef_ did not converge\n",
            "  warnings.warn(\n"
          ]
        }
      ],
      "source": [
        "#l1_ratiofloat, default=None\n",
        "#The Elastic-Net mixing parameter, with 0 <= l1_ratio <= 1. Only used if penalty='elasticnet'.\n",
        "#Setting l1_ratio=0 is equivalent to using penalty='l2', while setting l1_ratio=1 is equivalent to using penalty='l1'.\n",
        "# For 0 < l1_ratio <1, the penalty is a combination of L1 and L2.\n",
        "\n",
        "from sklearn.model_selection import GridSearchCV\n",
        "from sklearn.linear_model import LogisticRegression\n",
        "import numpy as np\n",
        "grid_params = { 'penalty' : ['elasticnet'],\n",
        "                'solver': ['saga'],\n",
        "               'l1_ratio':np.arange(0.1,1,.1),\n",
        "               'C': [0.001, 0.01, 0.1, 1, 10, 100, 1000]}\n",
        "\n",
        "log=LogisticRegression()\n",
        "g_el=GridSearchCV(log,grid_params,verbose=1, cv=10 ,n_jobs=-1,error_score='raise')\n",
        "g_el_res=g_el.fit(X_train, y_train)"
      ]
    },
    {
      "cell_type": "code",
      "execution_count": null,
      "metadata": {
        "colab": {
          "base_uri": "https://localhost:8080/"
        },
        "id": "eMg5kyeOe_pE",
        "outputId": "8dec1921-1a07-449e-c0ef-ee2e9125f9c7"
      },
      "outputs": [
        {
          "output_type": "execute_result",
          "data": {
            "text/plain": [
              "0.9360090076635089"
            ]
          },
          "metadata": {},
          "execution_count": 46
        }
      ],
      "source": [
        "g_el_res.best_score_"
      ]
    },
    {
      "cell_type": "code",
      "execution_count": null,
      "metadata": {
        "colab": {
          "base_uri": "https://localhost:8080/"
        },
        "id": "IP3Vd8yzffa6",
        "outputId": "d3eb88b9-cc9c-4c3d-d502-fe19e51c67d4"
      },
      "outputs": [
        {
          "output_type": "execute_result",
          "data": {
            "text/plain": [
              "{'C': 0.001, 'l1_ratio': 0.9, 'penalty': 'elasticnet', 'solver': 'saga'}"
            ]
          },
          "metadata": {},
          "execution_count": 47
        }
      ],
      "source": [
        "g_el_res.best_params_"
      ]
    },
    {
      "cell_type": "code",
      "execution_count": null,
      "metadata": {
        "colab": {
          "base_uri": "https://localhost:8080/"
        },
        "id": "JhgjETkhpnjZ",
        "outputId": "481ceb8e-a1b4-48a7-ef22-1eb9f645e62e"
      },
      "outputs": [
        {
          "output_type": "stream",
          "name": "stdout",
          "text": [
            "Accuracy: 0.9391558149977548\n",
            "Precision: 0.9407657657657658\n",
            "Recall: 0.9980884109916368\n",
            "F1 score: 0.9685797101449276\n"
          ]
        }
      ],
      "source": [
        "# After hyperparameter tuning and model training\n",
        "\n",
        "# Predict on the test data\n",
        "y_pred = g_el_res.best_estimator_.predict(X_test)\n",
        "\n",
        "# Evaluate the model performance on the test data\n",
        "from sklearn.metrics import accuracy_score, precision_score, recall_score, f1_score\n",
        "\n",
        "accuracy = accuracy_score(y_test, y_pred)\n",
        "precision = precision_score(y_test, y_pred)\n",
        "recall = recall_score(y_test, y_pred)\n",
        "f1 = f1_score(y_test, y_pred)\n",
        "\n",
        "print(\"Accuracy:\", accuracy)\n",
        "print(\"Precision:\", precision)\n",
        "print(\"Recall:\", recall)\n",
        "print(\"F1 score:\", f1)"
      ]
    },
    {
      "cell_type": "code",
      "source": [
        "features = np.array([[45, 80, 110, 70, 220]])\n",
        "prediction = g_knn.predict(features)\n",
        "print(\"Prediction: {}\".format(prediction))\n",
        "if prediction==1:\n",
        "  print(\"ALERT\")\n",
        "else:\n",
        "  print(\"SAFE\")"
      ],
      "metadata": {
        "colab": {
          "base_uri": "https://localhost:8080/"
        },
        "id": "AffwjnlmdWwo",
        "outputId": "f262fee2-4eaa-4aad-a9c5-bc8d623d4f76"
      },
      "execution_count": null,
      "outputs": [
        {
          "output_type": "stream",
          "name": "stdout",
          "text": [
            "Prediction: [1]\n",
            "ALERT\n"
          ]
        },
        {
          "output_type": "stream",
          "name": "stderr",
          "text": [
            "/usr/local/lib/python3.10/dist-packages/sklearn/base.py:439: UserWarning: X does not have valid feature names, but KNeighborsClassifier was fitted with feature names\n",
            "  warnings.warn(\n"
          ]
        }
      ]
    },
    {
      "cell_type": "markdown",
      "metadata": {
        "id": "DJcqKVsIs1E9"
      },
      "source": [
        "### **DECISION TREE**"
      ]
    },
    {
      "cell_type": "code",
      "execution_count": null,
      "metadata": {
        "colab": {
          "base_uri": "https://localhost:8080/"
        },
        "id": "kA-p7s4VjNQC",
        "outputId": "41371e4a-a3a7-4bca-9945-3e14e62826e1"
      },
      "outputs": [
        {
          "output_type": "stream",
          "name": "stdout",
          "text": [
            "Fitting 10 folds for each of 2500 candidates, totalling 25000 fits\n"
          ]
        }
      ],
      "source": [
        "from pandas.core.arrays.datetimes import DT64NS_DTYPE\n",
        "from sklearn.tree import DecisionTreeClassifier\n",
        "from sklearn.model_selection import GridSearchCV\n",
        "from sklearn.tree import plot_tree\n",
        "import matplotlib.pyplot as plt\n",
        "\n",
        "\n",
        "dt= DecisionTreeClassifier(random_state=30)\n",
        "\n",
        "param_grid = {\n",
        "    'criterion': ['gini', 'entropy'],\n",
        "    'splitter': ['best', 'random'],\n",
        "    'max_depth': [2, 4, 6, 8, 10],\n",
        "    'min_samples_split': [2, 4, 6, 8, 10],\n",
        "    'min_samples_leaf': [1, 2, 3, 4, 5],\n",
        "    'max_leaf_nodes': [None, 5, 10, 15, 20],\n",
        "}\n",
        "\n",
        "g_dt = GridSearchCV(dt,param_grid, verbose=1, cv=10, n_jobs=-1)\n",
        "g_dt_res = g_dt.fit(X_train, y_train)\n"
      ]
    },
    {
      "cell_type": "code",
      "execution_count": null,
      "metadata": {
        "colab": {
          "base_uri": "https://localhost:8080/"
        },
        "id": "Ze5WQe8NpuiF",
        "outputId": "431c7341-d717-48e1-cc41-8e4665bdbb8c"
      },
      "outputs": [
        {
          "output_type": "execute_result",
          "data": {
            "text/plain": [
              "0.9986528205506309"
            ]
          },
          "metadata": {},
          "execution_count": 52
        }
      ],
      "source": [
        "g_dt_res.best_score_"
      ]
    },
    {
      "cell_type": "code",
      "execution_count": null,
      "metadata": {
        "colab": {
          "base_uri": "https://localhost:8080/"
        },
        "id": "F_qwwvKiqEli",
        "outputId": "a1d0d335-249d-4061-b26b-f6749bbe443a"
      },
      "outputs": [
        {
          "output_type": "execute_result",
          "data": {
            "text/plain": [
              "{'criterion': 'entropy',\n",
              " 'max_depth': 8,\n",
              " 'max_leaf_nodes': None,\n",
              " 'min_samples_leaf': 1,\n",
              " 'min_samples_split': 2,\n",
              " 'splitter': 'random'}"
            ]
          },
          "metadata": {},
          "execution_count": 53
        }
      ],
      "source": [
        "g_dt_res.best_params_"
      ]
    },
    {
      "cell_type": "code",
      "execution_count": null,
      "metadata": {
        "colab": {
          "base_uri": "https://localhost:8080/"
        },
        "id": "jTXrU0G3rMoh",
        "outputId": "ba48e7a9-34ef-4a17-c4ef-6982c21cd145"
      },
      "outputs": [
        {
          "output_type": "stream",
          "name": "stdout",
          "text": [
            "Accuracy: 0.9975303098338572\n",
            "Precision: 0.9985666507405638\n",
            "Recall: 0.998805256869773\n",
            "F1 score: 0.9986859395532194\n"
          ]
        }
      ],
      "source": [
        "# After hyperparameter tuning and model training\n",
        "\n",
        "# Predict on the test data\n",
        "y_pred = g_dt_res.best_estimator_.predict(X_test)\n",
        "\n",
        "# Evaluate the model performance on the test data\n",
        "from sklearn.metrics import accuracy_score, precision_score, recall_score, f1_score\n",
        "\n",
        "accuracy = accuracy_score(y_test, y_pred)\n",
        "precision = precision_score(y_test, y_pred)\n",
        "recall = recall_score(y_test, y_pred)\n",
        "f1 = f1_score(y_test, y_pred)\n",
        "\n",
        "print(\"Accuracy:\", accuracy)\n",
        "print(\"Precision:\", precision)\n",
        "print(\"Recall:\", recall)\n",
        "print(\"F1 score:\", f1)\n"
      ]
    },
    {
      "cell_type": "code",
      "execution_count": null,
      "metadata": {
        "colab": {
          "base_uri": "https://localhost:8080/"
        },
        "id": "2LTd_IWKsJy2",
        "outputId": "5c0c2539-0aad-46ee-bceb-ee25a620babf"
      },
      "outputs": [
        {
          "output_type": "stream",
          "name": "stdout",
          "text": [
            "Confusion matrix:\n",
            "[[ 263    6]\n",
            " [   5 4180]]\n"
          ]
        }
      ],
      "source": [
        "from sklearn.metrics import confusion_matrix\n",
        "\n",
        "# After predicting on the test data\n",
        "cm = confusion_matrix(y_test, y_pred)\n",
        "\n",
        "print(\"Confusion matrix:\")\n",
        "print(cm)\n"
      ]
    },
    {
      "cell_type": "code",
      "source": [
        "features = np.array([[25, 70, 120, 90, 100]])\n",
        "prediction = g_dt.predict(features)\n",
        "print(\"Prediction: {}\".format(prediction))\n",
        "if prediction==1:\n",
        "  print(\"ALERT\")\n",
        "else:\n",
        "  print(\"SAFE\")"
      ],
      "metadata": {
        "colab": {
          "base_uri": "https://localhost:8080/"
        },
        "id": "sOc3IPBZeuUn",
        "outputId": "dd1c0947-49c8-46b6-a361-acacc6e16fcd"
      },
      "execution_count": null,
      "outputs": [
        {
          "output_type": "stream",
          "name": "stdout",
          "text": [
            "Prediction: [1]\n",
            "ALERT\n"
          ]
        },
        {
          "output_type": "stream",
          "name": "stderr",
          "text": [
            "/usr/local/lib/python3.10/dist-packages/sklearn/base.py:439: UserWarning: X does not have valid feature names, but DecisionTreeClassifier was fitted with feature names\n",
            "  warnings.warn(\n"
          ]
        }
      ]
    },
    {
      "cell_type": "markdown",
      "metadata": {
        "id": "AP2QYt05tL93"
      },
      "source": [
        "### **RANDOM FOREST**"
      ]
    },
    {
      "cell_type": "code",
      "execution_count": null,
      "metadata": {
        "colab": {
          "base_uri": "https://localhost:8080/"
        },
        "id": "8TiBcAS8uXNU",
        "outputId": "067b289a-bead-4116-bfde-891290bd014c"
      },
      "outputs": [
        {
          "output_type": "stream",
          "name": "stdout",
          "text": [
            "Fitting 10 folds for each of 450 candidates, totalling 4500 fits\n"
          ]
        }
      ],
      "source": [
        "from sklearn.ensemble import RandomForestClassifier\n",
        "from sklearn.model_selection import GridSearchCV\n",
        "\n",
        "\n",
        "param_grid = {\n",
        "    'criterion': ['gini', 'entropy'],\n",
        "    'n_estimators':[50,100,200],\n",
        "    'max_depth': [6, 8, 10],\n",
        "    'min_samples_split': [2, 4, 6, 8, 10],\n",
        "    'min_samples_leaf': [1, 2, 3, 4, 5],\n",
        "    #'max_leaf_nodes': [None, 5, 10, 15, 20],\n",
        "}\n",
        "\n",
        "rf=RandomForestClassifier()\n",
        "gr = GridSearchCV(rf,param_grid, verbose=1, cv=10, n_jobs=-1)\n",
        "gr_res = gr.fit(X_train, y_train)"
      ]
    },
    {
      "cell_type": "code",
      "execution_count": null,
      "metadata": {
        "id": "alyUQHNpIgoT"
      },
      "outputs": [],
      "source": [
        "from sklearn.ensemble import RandomForestClassifier\n",
        "from sklearn.model_selection import GridSearchCV\n",
        "\n",
        "\n",
        "param_grid = {\n",
        "    'criterion': ['gini', 'entropy'],\n",
        "    'n_estimators':[50,100,200],\n",
        "    'max_depth': [6, 8, 10],\n",
        "    'min_samples_split': [2, 4, 6, 8, 10],\n",
        "    'min_samples_leaf': [1, 2, 3, 4, 5],\n",
        "    #'max_leaf_nodes': [None, 5, 10, 15, 20],\n",
        "}\n",
        "\n",
        "rf=RandomForestClassifier()\n",
        "gr = GridSearchCV(rf,param_grid, verbose=1, cv=10, n_jobs=-1)\n",
        "gr_res = gr.fit(X_train, y_train)"
      ]
    },
    {
      "cell_type": "code",
      "execution_count": null,
      "metadata": {
        "id": "rlKu2n64K3FU",
        "colab": {
          "base_uri": "https://localhost:8080/"
        },
        "outputId": "3a70786f-bc5b-4623-f33e-99f67d01f90b"
      },
      "outputs": [
        {
          "output_type": "execute_result",
          "data": {
            "text/plain": [
              "0.9987089057648669"
            ]
          },
          "metadata": {},
          "execution_count": 10
        }
      ],
      "source": [
        "gr_res.best_score_"
      ]
    },
    {
      "cell_type": "code",
      "execution_count": null,
      "metadata": {
        "id": "_qHQw6Jemj2r"
      },
      "outputs": [],
      "source": [
        "gr_res.best_params_"
      ]
    },
    {
      "cell_type": "code",
      "execution_count": null,
      "metadata": {
        "id": "Jy5I-WYommLG"
      },
      "outputs": [],
      "source": [
        "# After hyperparameter tuning and model training\n",
        "\n",
        "# Predict on the test data\n",
        "y_pred = gr_res.best_estimator_.predict(X_test)\n",
        "\n",
        "# Evaluate the model performance on the test data\n",
        "from sklearn.metrics import accuracy_score, precision_score, recall_score, f1_score\n",
        "\n",
        "accuracy = accuracy_score(y_test, y_pred)\n",
        "precision = precision_score(y_test, y_pred)\n",
        "recall = recall_score(y_test, y_pred)\n",
        "f1 = f1_score(y_test, y_pred)\n",
        "\n",
        "print(\"Accuracy:\", accuracy)\n",
        "print(\"Precision:\", precision)\n",
        "print(\"Recall:\", recall)\n",
        "print(\"F1 score:\", f1)\n"
      ]
    }
  ],
  "metadata": {
    "colab": {
      "provenance": [],
      "include_colab_link": true
    },
    "gpuClass": "standard",
    "kernelspec": {
      "display_name": "Python 3",
      "name": "python3"
    },
    "language_info": {
      "name": "python"
    }
  },
  "nbformat": 4,
  "nbformat_minor": 0
}